{
 "cells": [
  {
   "cell_type": "markdown",
   "metadata": {},
   "source": [
    "# Spatial Analysis of Traffic Accident Hotspots\n",
    "\n",
    "This notebook demonstrates spatial analysis and mapping of traffic accident hotspots."
   ]
  },
  {
   "cell_type": "code",
   "execution_count": null,
   "metadata": {},
   "outputs": [],
   "source": [
    "import pandas as pd\n",
    "import numpy as np\n",
    "import folium\n",
    "import matplotlib.pyplot as plt\n",
    "import sys\n",
    "sys.path.append('../src')\n",
    "from spatial_utils import assign_h3_cells, aggregate_by_h3"
   ]
  },
  {
   "cell_type": "code",
   "execution_count": null,
   "metadata": {},
   "outputs": [],
   "source": [
    "# Load data\n",
    "try:\n",
    "    df = pd.read_csv('../data/processed_accidents.csv')\n",
    "except FileNotFoundError:\n",
    "    # Create sample data\n",
    "    np.random.seed(42)\n",
    "    n = 1000\n",
    "    df = pd.DataFrame({\n",
    "        'Start_Lat': np.random.normal(39.96, 0.5, n),\n",
    "        'Start_Lng': np.random.normal(-83.0, 0.5, n),\n",
    "        'Severity': np.random.choice([1,2,3,4], n),\n",
    "        'Start_Time': pd.date_range('2023-01-01', periods=n, freq='H')\n",
    "    })\n",
    "\n",
    "print(f'Loaded {len(df)} records')"
   ]
  },
  {
   "cell_type": "code",
   "execution_count": null,
   "metadata": {},
   "outputs": [],
   "source": [
    "# Assign H3 cells\n",
    "df = assign_h3_cells(df)\n",
    "hotspots = aggregate_by_h3(df)\n",
    "print(f'Created {len(hotspots)} spatial cells')"
   ]
  },
  {
   "cell_type": "code",
   "execution_count": null,
   "metadata": {},
   "outputs": [],
   "source": [
    "# Create basic map\n",
    "center = [df['Start_Lat'].mean(), df['Start_Lng'].mean()]\n",
    "m = folium.Map(location=center, zoom_start=10)\n",
    "\n",
    "# Add sample points\n",
    "for _, row in df.head(100).iterrows():\n",
    "    folium.CircleMarker(\n",
    "        [row['Start_Lat'], row['Start_Lng']],\n",
    "        radius=3,\n",
    "        popup=f'Severity: {row["Severity"]}',\n",
    "        color='red' if row['Severity'] >= 3 else 'blue'\n",
    "    ).add_to(m)\n",
    "\n",
    "m"
   ]
  }
 ],
 "metadata": {
  "kernelspec": {
   "display_name": "Python 3",
   "language": "python",
   "name": "python3"
  },
  "language_info": {
   "name": "python",
   "version": "3.8.5"
  }
 },
 "nbformat": 4,
 "nbformat_minor": 4
}